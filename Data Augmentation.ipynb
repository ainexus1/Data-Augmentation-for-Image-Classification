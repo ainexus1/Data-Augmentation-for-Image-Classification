{
 "cells": [
  {
   "cell_type": "code",
   "execution_count": null,
   "id": "c382bce3-b1cc-49cc-9e3f-48ec7642fcee",
   "metadata": {},
   "outputs": [],
   "source": [
    "import matplotlib.pyplot as plt\n",
    "import numpy as np\n",
    "import cv2\n",
    "import os\n",
    "import PIL\n",
    "import tensorflow as tf\n",
    "\n",
    "from tensorflow import keras\n",
    "from tensorflow.keras import layers\n",
    "from tensorflow.keras.models import Sequential"
   ]
  },
  {
   "cell_type": "code",
   "execution_count": null,
   "id": "2380b28d-42c2-40bf-87ca-5d803067612a",
   "metadata": {},
   "outputs": [],
   "source": [
    "dataset_url = \"https://storage.googleapis.com/download.tensorflow.org/example_images/flower_photos.tgz\"\n",
    "data_dir = tf.keras.utils.get_file('flower_photos', origin=dataset_url, cache_dir='.', untar=True)"
   ]
  },
  {
   "cell_type": "code",
   "execution_count": null,
   "id": "fef22885-d2fa-4228-ad59-b699a2f23c6d",
   "metadata": {},
   "outputs": [],
   "source": [
    "data_dir"
   ]
  },
  {
   "cell_type": "code",
   "execution_count": null,
   "id": "4cea3b12-5ca3-4c3d-a916-14f011b18287",
   "metadata": {},
   "outputs": [],
   "source": [
    "import pathlib\n",
    "data_dir = pathlib.Path(data_dir)\n",
    "data_dir"
   ]
  },
  {
   "cell_type": "code",
   "execution_count": null,
   "id": "8e4ac02f-e8e8-4e16-8d1f-0ef2816eaf9b",
   "metadata": {},
   "outputs": [],
   "source": [
    "list(data_dir.glob('*/*.jpg'))"
   ]
  },
  {
   "cell_type": "code",
   "execution_count": null,
   "id": "475bd467-ebbb-455c-8ddd-ecba3b39f01d",
   "metadata": {},
   "outputs": [],
   "source": [
    "image_count = len(list(data_dir.glob('*/*.jpg')))\n",
    "image_count"
   ]
  },
  {
   "cell_type": "code",
   "execution_count": null,
   "id": "84e9d820-2c7d-4977-b578-9005265ec554",
   "metadata": {},
   "outputs": [],
   "source": [
    "flowers_image_dict = {\n",
    "    'roses' : list(data_dir.glob('roses/*')),\n",
    "    'daisy' : list(data_dir.glob('daisy/*')),\n",
    "    'dandelion' : list(data_dir.glob('dandelion/*')),\n",
    "    'sunflowers' : list(data_dir.glob('sunflowers/*')),\n",
    "    'tulip' : list(data_dir.glob('tulips/*')),\n",
    "}"
   ]
  },
  {
   "cell_type": "code",
   "execution_count": null,
   "id": "b6185fc7-97d7-4fe5-827a-ea5257188bb6",
   "metadata": {},
   "outputs": [],
   "source": [
    "flower_label_dict={\n",
    "    'roses':0,\n",
    "    'daisy':1,\n",
    "    'dandelion':2,\n",
    "    'sunflowers':3,\n",
    "    'tulip':4,\n",
    "}"
   ]
  },
  {
   "cell_type": "code",
   "execution_count": null,
   "id": "8d8c7a93-29f6-45e0-aa11-95dbc4820039",
   "metadata": {},
   "outputs": [],
   "source": [
    "str(flowers_image_dict['roses'][0])"
   ]
  },
  {
   "cell_type": "code",
   "execution_count": null,
   "id": "a431028d-0a48-49bc-b802-8a8db44c3e30",
   "metadata": {},
   "outputs": [],
   "source": [
    "img = cv2.imread(str(flowers_image_dict['roses'][0]))\n",
    "img"
   ]
  },
  {
   "cell_type": "code",
   "execution_count": null,
   "id": "1edfa732-1949-428e-a272-cdd31874f0ee",
   "metadata": {},
   "outputs": [],
   "source": [
    "cv2.resize(img,(180, 180)).shape"
   ]
  },
  {
   "cell_type": "code",
   "execution_count": null,
   "id": "b9d4b428-628d-48dc-92bb-896a31c1adc7",
   "metadata": {},
   "outputs": [],
   "source": [
    "x, y = [] , []\n",
    "for flower_name, images in flowers_image_dict.items():\n",
    "    for image in images:\n",
    "        img = cv2.imread(str(image))\n",
    "        resized_img = cv2.resize(img, (180, 180))\n",
    "        x.append(resized_img)\n",
    "        y.append(flower_label_dict[flower_name])"
   ]
  },
  {
   "cell_type": "code",
   "execution_count": null,
   "id": "7adee055-2354-494f-b226-7db1d71b66c5",
   "metadata": {},
   "outputs": [],
   "source": [
    "x = np.array(x)\n",
    "y = np.array(y)"
   ]
  },
  {
   "cell_type": "code",
   "execution_count": null,
   "id": "110d4020-6c38-4198-adbf-c4bf53c37cf7",
   "metadata": {},
   "outputs": [],
   "source": [
    "from sklearn.model_selection import train_test_split\n",
    "x_train, x_test, y_train, y_test = train_test_split(x, y, random_state=0)"
   ]
  },
  {
   "cell_type": "code",
   "execution_count": null,
   "id": "61fe18e8-e178-4850-b736-5a6319192467",
   "metadata": {},
   "outputs": [],
   "source": [
    "print(len(x_train))\n",
    "print(len(x_test))"
   ]
  },
  {
   "cell_type": "code",
   "execution_count": null,
   "id": "446844bd-32df-41a7-9579-02777695b20e",
   "metadata": {},
   "outputs": [],
   "source": [
    "x_train_scaled = x_train/ 255\n",
    "x_test_scaled = x_test / 255"
   ]
  },
  {
   "cell_type": "code",
   "execution_count": null,
   "id": "f7492b0d-a383-42e8-9e13-c95bbdedc77b",
   "metadata": {},
   "outputs": [],
   "source": [
    "num_classes = 5\n",
    "model = Sequential([\n",
    "    layers.Conv2D(16, 3, padding='same', activation='relu'),\n",
    "    layers.MaxPooling2D(),\n",
    "    layers.Conv2D(32, 3, padding='same', activation='relu'),\n",
    "    layers.MaxPooling2D(),\n",
    "    layers.Conv2D(64, 3, padding='same', activation='relu'),\n",
    "    layers.MaxPooling2D(),\n",
    "    layers.Flatten(),\n",
    "    layers.Dense(128, activation='relu'),\n",
    "    layers.Dense(num_classes)    \n",
    "])\n",
    "\n",
    "model.compile(optimizer='adam', loss=keras.losses.SparseCategoricalCrossentropy(from_logits=True), metrics=['accuracy'])\n",
    "model.fit(x_train_scaled, y_train, epochs=20)\n"
   ]
  },
  {
   "cell_type": "code",
   "execution_count": null,
   "id": "515dc95b-7ee7-44fc-ac5b-2f1ba334fff1",
   "metadata": {},
   "outputs": [],
   "source": [
    "model.evaluate(x_train_scaled, y_test)"
   ]
  },
  {
   "cell_type": "code",
   "execution_count": null,
   "id": "02338fde-649f-4910-b313-46fc0a32d04b",
   "metadata": {},
   "outputs": [],
   "source": [
    "prediction = model.predict(x_train_scaled)\n",
    "prediction"
   ]
  },
  {
   "cell_type": "code",
   "execution_count": null,
   "id": "d4b459f9-718a-425a-8087-9994f68e9fcb",
   "metadata": {},
   "outputs": [],
   "source": [
    "score = tf.nn.softmax(predictions[0])\n",
    "score"
   ]
  },
  {
   "cell_type": "code",
   "execution_count": null,
   "id": "9857818d-553c-4263-b4fc-2144155bf9cd",
   "metadata": {},
   "outputs": [],
   "source": [
    "data_augmentation = kras.Sequential([\n",
    "    layers.experimental.preprocessing.RandomZone(0.3),\n",
    "])"
   ]
  },
  {
   "cell_type": "code",
   "execution_count": null,
   "id": "f29dcbfe-6a5b-4b50-a6db-436ae95a63f8",
   "metadata": {},
   "outputs": [],
   "source": [
    "plt.axis('off')\n",
    "plt.imshow(data_augmentation(x)[0].numpy().astype(\"uint8\"))"
   ]
  }
 ],
 "metadata": {
  "kernelspec": {
   "display_name": "Python 3 (ipykernel)",
   "language": "python",
   "name": "python3"
  },
  "language_info": {
   "codemirror_mode": {
    "name": "ipython",
    "version": 3
   },
   "file_extension": ".py",
   "mimetype": "text/x-python",
   "name": "python",
   "nbconvert_exporter": "python",
   "pygments_lexer": "ipython3",
   "version": "3.11.5"
  }
 },
 "nbformat": 4,
 "nbformat_minor": 5
}
